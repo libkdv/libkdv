{
 "cells": [
  {
   "cell_type": "code",
   "execution_count": 1,
   "id": "f53edb5e",
   "metadata": {},
   "outputs": [],
   "source": [
    "from keplergl import KeplerGl\n",
    "from libkdv import kdv\n",
    "from time import time\n",
    "from libkdv.demo import *\n",
    "import pandas as pd\n"
   ]
  },
  {
   "cell_type": "code",
   "execution_count": 2,
   "id": "85dfec3c",
   "metadata": {
    "scrolled": true
   },
   "outputs": [
    {
     "data": {
      "text/html": [
       "<div>\n",
       "<style scoped>\n",
       "    .dataframe tbody tr th:only-of-type {\n",
       "        vertical-align: middle;\n",
       "    }\n",
       "\n",
       "    .dataframe tbody tr th {\n",
       "        vertical-align: top;\n",
       "    }\n",
       "\n",
       "    .dataframe thead th {\n",
       "        text-align: right;\n",
       "    }\n",
       "</style>\n",
       "<table border=\"1\" class=\"dataframe\">\n",
       "  <thead>\n",
       "    <tr style=\"text-align: right;\">\n",
       "      <th></th>\n",
       "      <th>lon</th>\n",
       "      <th>lat</th>\n",
       "      <th>val</th>\n",
       "      <th>t</th>\n",
       "    </tr>\n",
       "  </thead>\n",
       "  <tbody>\n",
       "    <tr>\n",
       "      <th>0</th>\n",
       "      <td>113.862229</td>\n",
       "      <td>22.201038</td>\n",
       "      <td>0.059449</td>\n",
       "      <td>1584402300</td>\n",
       "    </tr>\n",
       "    <tr>\n",
       "      <th>1</th>\n",
       "      <td>113.862229</td>\n",
       "      <td>22.201038</td>\n",
       "      <td>0.085009</td>\n",
       "      <td>1585072799</td>\n",
       "    </tr>\n",
       "    <tr>\n",
       "      <th>2</th>\n",
       "      <td>113.862229</td>\n",
       "      <td>22.201038</td>\n",
       "      <td>0.058327</td>\n",
       "      <td>1585743300</td>\n",
       "    </tr>\n",
       "    <tr>\n",
       "      <th>3</th>\n",
       "      <td>113.862229</td>\n",
       "      <td>22.202503</td>\n",
       "      <td>0.066232</td>\n",
       "      <td>1584402300</td>\n",
       "    </tr>\n",
       "    <tr>\n",
       "      <th>4</th>\n",
       "      <td>113.862229</td>\n",
       "      <td>22.202503</td>\n",
       "      <td>0.094708</td>\n",
       "      <td>1585072799</td>\n",
       "    </tr>\n",
       "    <tr>\n",
       "      <th>...</th>\n",
       "      <td>...</td>\n",
       "      <td>...</td>\n",
       "      <td>...</td>\n",
       "      <td>...</td>\n",
       "    </tr>\n",
       "    <tr>\n",
       "      <th>3474640</th>\n",
       "      <td>114.308667</td>\n",
       "      <td>22.458983</td>\n",
       "      <td>0.009528</td>\n",
       "      <td>1613904300</td>\n",
       "    </tr>\n",
       "    <tr>\n",
       "      <th>3474641</th>\n",
       "      <td>114.308667</td>\n",
       "      <td>22.460449</td>\n",
       "      <td>0.000210</td>\n",
       "      <td>1611892800</td>\n",
       "    </tr>\n",
       "    <tr>\n",
       "      <th>3474642</th>\n",
       "      <td>114.308667</td>\n",
       "      <td>22.460449</td>\n",
       "      <td>0.002486</td>\n",
       "      <td>1612563300</td>\n",
       "    </tr>\n",
       "    <tr>\n",
       "      <th>3474643</th>\n",
       "      <td>114.308667</td>\n",
       "      <td>22.460449</td>\n",
       "      <td>0.002925</td>\n",
       "      <td>1613233799</td>\n",
       "    </tr>\n",
       "    <tr>\n",
       "      <th>3474644</th>\n",
       "      <td>114.308667</td>\n",
       "      <td>22.460449</td>\n",
       "      <td>0.001529</td>\n",
       "      <td>1613904300</td>\n",
       "    </tr>\n",
       "  </tbody>\n",
       "</table>\n",
       "<p>3474645 rows × 4 columns</p>\n",
       "</div>"
      ],
      "text/plain": [
       "                lon        lat       val           t\n",
       "0        113.862229  22.201038  0.059449  1584402300\n",
       "1        113.862229  22.201038  0.085009  1585072799\n",
       "2        113.862229  22.201038  0.058327  1585743300\n",
       "3        113.862229  22.202503  0.066232  1584402300\n",
       "4        113.862229  22.202503  0.094708  1585072799\n",
       "...             ...        ...       ...         ...\n",
       "3474640  114.308667  22.458983  0.009528  1613904300\n",
       "3474641  114.308667  22.460449  0.000210  1611892800\n",
       "3474642  114.308667  22.460449  0.002486  1612563300\n",
       "3474643  114.308667  22.460449  0.002925  1613233799\n",
       "3474644  114.308667  22.460449  0.001529  1613904300\n",
       "\n",
       "[3474645 rows x 4 columns]"
      ]
     },
     "execution_count": 2,
     "metadata": {},
     "output_type": "execute_result"
    }
   ],
   "source": [
    "HongKong = pd.read_csv('../GIS_datasets/Hong_Kong/Hong_Kong.csv')\n",
    "kdv_HongKong = kdv(HongKong,GPS=True,KDV_type='STKDV',bandwidth=2000,row_pixels=320,col_pixels=240,bandwidth_t=14,t_pixels=96)\n",
    "kdv_HongKong.compute()\n"
   ]
  },
  {
   "cell_type": "code",
   "execution_count": 3,
   "id": "83fe30ad",
   "metadata": {
    "scrolled": false
   },
   "outputs": [
    {
     "name": "stdout",
     "output_type": "stream",
     "text": [
      "User Guide: https://docs.kepler.gl/docs/keplergl-jupyter\n"
     ]
    },
    {
     "data": {
      "application/vnd.jupyter.widget-view+json": {
       "model_id": "1dede5ae07af4cff8a24a32f92e5c00d",
       "version_major": 2,
       "version_minor": 0
      },
      "text/plain": [
       "KeplerGl(config={'version': 'v1', 'config': {'visState': {'filters': [{'dataId': ['data_1'], 'id': 'armwu45ej'…"
      ]
     },
     "metadata": {},
     "output_type": "display_data"
    }
   ],
   "source": [
    "config_HongKong_STKDV = {'version': 'v1', 'config': {'visState': {'filters': [{'dataId': ['data_1'], 'id': 'armwu45ej', 'name': ['t'], 'type': 'timeRange', 'value': [1605450941000, 1608225373000], 'enlarged': False, 'plotType': 'histogram', 'animationWindow': 'free', 'yAxis': None, 'speed': 1}], 'layers': [{'id': 'mt1vj2', 'type': 'point', 'config': {'dataId': 'data_1', 'label': 'Point', 'color': [18, 147, 154], 'highlightColor': [252, 242, 26, 255], 'columns': {'lat': 'lat', 'lng': 'lon', 'altitude': None}, 'isVisible': True, 'visConfig': {'radius': 10, 'fixedRadius': False, 'opacity': 0.8, 'outline': False, 'thickness': 2, 'strokeColor': None, 'colorRange': {'name': 'Custom Palette', 'type': 'custom', 'category': 'Custom', 'colors': ['#0000FF', '#007FFF', '#00FFFF', '#00FF80', '#00FF00', '#80FF00', '#FFFF00', '#FF8000', '#FF0000', '#FF0000', '#FF0000', '#FF0000']}, 'strokeColorRange': {'name': 'Global Warming', 'type': 'sequential', 'category': 'Uber', 'colors': ['#5A1846', '#900C3F', '#C70039', '#E3611C', '#F1920E', '#FFC300']}, 'radiusRange': [0, 50], 'filled': True}, 'hidden': False, 'textLabel': [{'field': None, 'color': [255, 255, 255], 'size': 18, 'offset': [0, 0], 'anchor': 'start', 'alignment': 'center'}]}, 'visualChannels': {'colorField': {'name': 'val', 'type': 'real'}, 'colorScale': 'quantize', 'strokeColorField': None, 'strokeColorScale': 'quantile', 'sizeField': None, 'sizeScale': 'linear'}}], 'interactionConfig': {'tooltip': {'fieldsToShow': {'data_1': [{'name': 'val', 'format': None}, {'name': 't', 'format': None}]}, 'compareMode': False, 'compareType': 'absolute', 'enabled': True}, 'brush': {'size': 0.5, 'enabled': False}, 'geocoder': {'enabled': False}, 'coordinate': {'enabled': False}}, 'layerBlending': 'normal', 'splitMaps': [], 'animationConfig': {'currentTime': None, 'speed': 1}}, 'mapState': {'bearing': 0, 'dragRotate': False, 'latitude': 22.25604002118072, 'longitude': 114.09660306127994, 'pitch': 0, 'zoom': 9.290577937314907, 'isSplit': False}, 'mapStyle': {'styleType': 'dark', 'topLayerGroups': {}, 'visibleLayerGroups': {'label': True, 'road': True, 'border': False, 'building': True, 'water': True, 'land': True, '3d building': False}, 'threeDBuildingColor': [9.665468314072013, 17.18305478057247, 31.1442867897876], 'mapStyles': {}}}}\n",
    "map_HongKong = KeplerGl(height=600, data={\"data_1\": kdv_HongKong.result},config=config_HongKong_STKDV)\n",
    "map_HongKong\n",
    "#Suggested Color: ['#0000ff', '#007fff', '#00ffff', '#00ff80', '#00ff00', '#80ff00', '#ffff00', '#ff8000', '#ff0000', '#ff0000', '#ff0000', '#ff0000']"
   ]
  },
  {
   "cell_type": "code",
   "execution_count": null,
   "id": "a406fba5",
   "metadata": {},
   "outputs": [],
   "source": []
  }
 ],
 "metadata": {
  "kernelspec": {
   "display_name": "Python 3 (ipykernel)",
   "language": "python",
   "name": "python3"
  },
  "language_info": {
   "codemirror_mode": {
    "name": "ipython",
    "version": 3
   },
   "file_extension": ".py",
   "mimetype": "text/x-python",
   "name": "python",
   "nbconvert_exporter": "python",
   "pygments_lexer": "ipython3",
   "version": "3.9.7"
  }
 },
 "nbformat": 4,
 "nbformat_minor": 5
}

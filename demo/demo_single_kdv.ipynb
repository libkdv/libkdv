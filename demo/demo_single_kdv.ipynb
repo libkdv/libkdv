{
 "cells": [
  {
   "cell_type": "code",
   "execution_count": 2,
   "metadata": {},
   "outputs": [],
   "source": [
    "import libkdv\n",
    "import pandas as pd"
   ]
  },
  {
   "cell_type": "code",
   "execution_count": 6,
   "metadata": {},
   "outputs": [
    {
     "name": "stdout",
     "output_type": "stream",
     "text": [
      "               lon        lat       val\n",
      "0      -122.432252  47.494532  0.000015\n",
      "1      -122.432252  47.495043  0.000023\n",
      "2      -122.432252  47.495553  0.000033\n",
      "3      -122.432252  47.496064  0.000046\n",
      "4      -122.432252  47.496574  0.000063\n",
      "...            ...        ...       ...\n",
      "434850 -122.222988  47.714594  0.000018\n",
      "434851 -122.222988  47.715104  0.000016\n",
      "434852 -122.222988  47.715615  0.000014\n",
      "434853 -122.222988  47.716126  0.000012\n",
      "434854 -122.222988  47.716636  0.000010\n",
      "\n",
      "[434855 rows x 3 columns]\n"
     ]
    }
   ],
   "source": [
    "dataset = pd.read_csv('../datasets/Seattle.csv')\n",
    "libkdv_obj = libkdv.kdv(dataset, KDV_type='KDV',\n",
    "                 GPS=True, \n",
    "                 bandwidth=1000, row_pixels=800, col_pixels=640, \n",
    "                 bandwidth_t=6, t_pixels=32,\n",
    "                 num_threads=8)\n",
    "\n",
    "libkdv_obj.compute()\n",
    "print(libkdv_obj)"
   ]
  },
  {
   "cell_type": "code",
   "execution_count": 4,
   "metadata": {},
   "outputs": [],
   "source": [
    "from keplergl import KeplerGl\n"
   ]
  },
  {
   "cell_type": "code",
   "execution_count": 5,
   "metadata": {},
   "outputs": [
    {
     "name": "stdout",
     "output_type": "stream",
     "text": [
      "User Guide: https://docs.kepler.gl/docs/keplergl-jupyter\n"
     ]
    },
    {
     "data": {
      "application/vnd.jupyter.widget-view+json": {
       "model_id": "fec08d6aacaa4fef8551fc06012e36e7",
       "version_major": 2,
       "version_minor": 0
      },
      "text/plain": [
       "KeplerGl(data={'data_1':                lon        lat       val\n",
       "0      -122.432252  47.494532  0.000015\n",
       "1    …"
      ]
     },
     "metadata": {},
     "output_type": "display_data"
    }
   ],
   "source": [
    "map_traffic_kdv = KeplerGl(height=600, data={\"data_1\": libkdv_obj.result})\n",
    "map_traffic_kdv"
   ]
  }
 ],
 "metadata": {
  "kernelspec": {
   "display_name": "base",
   "language": "python",
   "name": "python3"
  },
  "language_info": {
   "codemirror_mode": {
    "name": "ipython",
    "version": 3
   },
   "file_extension": ".py",
   "mimetype": "text/x-python",
   "name": "python",
   "nbconvert_exporter": "python",
   "pygments_lexer": "ipython3",
   "version": "3.12.3"
  }
 },
 "nbformat": 4,
 "nbformat_minor": 2
}

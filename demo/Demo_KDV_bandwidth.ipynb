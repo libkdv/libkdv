{
 "cells": [
  {
   "cell_type": "code",
   "execution_count": null,
   "id": "21a67fc4",
   "metadata": {
    "scrolled": true
   },
   "outputs": [],
   "source": [
    "from keplergl import KeplerGl\n",
    "from libkdv import kdv\n",
    "from time import time\n",
    "from libkdv.demo import *\n",
    "import pandas as pd\n",
    "\n",
    "\n",
    "NewYork = pd.read_csv('../datasets/New_York.csv')\n",
    "kdv_NewYork = kdv(NewYork,GPS=True,KDV_type='KDV',row_pixels=1280,col_pixels=960)\n",
    "bandwidths_NewYork = list(range(100,1901,200))\n",
    "\n",
    "result_NewYork = []\n",
    "for band in bandwidths_NewYork:\n",
    "    #print('%s is done'%band)\n",
    "    kdv_NewYork.bandwidth = band\n",
    "    result_NewYork.append(kdv_NewYork.compute())"
   ]
  },
  {
   "cell_type": "code",
   "execution_count": 2,
   "id": "50a3161e",
   "metadata": {},
   "outputs": [],
   "source": [
    "all_result_NewYork = result_NewYork[0]\n",
    "all_result_NewYork['bw'] = 0\n",
    "for i,result in enumerate(result_NewYork[1:]):\n",
    "    result['bw'] = i+1\n",
    "    all_result_NewYork = pd.concat([all_result_NewYork,result])\n",
    "    "
   ]
  },
  {
   "cell_type": "code",
   "execution_count": 3,
   "id": "03623cbd",
   "metadata": {
    "scrolled": false
   },
   "outputs": [
    {
     "name": "stdout",
     "output_type": "stream",
     "text": [
      "User Guide: https://docs.kepler.gl/docs/keplergl-jupyter\n"
     ]
    },
    {
     "data": {
      "application/vnd.jupyter.widget-view+json": {
       "model_id": "05c9c1f85c16432f809ebcdb341f84af",
       "version_major": 2,
       "version_minor": 0
      },
      "text/plain": [
       "KeplerGl(config={'version': 'v1', 'config': {'visState': {'filters': [{'dataId': ['unnamed'], 'id': '1z1xy9sp'…"
      ]
     },
     "metadata": {},
     "output_type": "display_data"
    }
   ],
   "source": [
    "config_NewYork_bands = {'version': 'v1', 'config': {'visState': {'filters': [{'dataId': ['unnamed'], 'id': '1z1xy9sp', 'name': ['bw'], 'type': 'range', 'value': [7.88, 8.3], 'enlarged': False, 'plotType': 'histogram', 'animationWindow': 'free', 'yAxis': None, 'speed': 1}], 'layers': [{'id': '5e707zf', 'type': 'point', 'config': {'dataId': 'unnamed', 'label': 'Point', 'color': [130, 154, 227], 'highlightColor': [252, 242, 26, 255], 'columns': {'lat': 'lat', 'lng': 'lon', 'altitude': None}, 'isVisible': True, 'visConfig': {'radius': 10, 'fixedRadius': False, 'opacity': 0.8, 'outline': False, 'thickness': 2, 'strokeColor': None, 'colorRange': {'name': 'Custom Palette', 'type': 'custom', 'category': 'Custom', 'colors': ['#0000ff', '#007fff', '#00ffff', '#00ff80', '#00ff00', '#80ff00', '#ffff00', '#ff8000', '#ff0000', '#ff0000', '#ff0000', '#ff0000']}, 'strokeColorRange': {'name': 'Global Warming', 'type': 'sequential', 'category': 'Uber', 'colors': ['#5A1846', '#900C3F', '#C70039', '#E3611C', '#F1920E', '#FFC300']}, 'radiusRange': [0, 50], 'filled': True}, 'hidden': False, 'textLabel': [{'field': None, 'color': [255, 255, 255], 'size': 18, 'offset': [0, 0], 'anchor': 'start', 'alignment': 'center'}]}, 'visualChannels': {'colorField': {'name': 'val', 'type': 'real'}, 'colorScale': 'quantize', 'strokeColorField': None, 'strokeColorScale': 'quantile', 'sizeField': None, 'sizeScale': 'linear'}}], 'interactionConfig': {'tooltip': {'fieldsToShow': {'unnamed': [{'name': 'val', 'format': None}, {'name': 'bw', 'format': None}]}, 'compareMode': False, 'compareType': 'absolute', 'enabled': True}, 'brush': {'size': 0.5, 'enabled': False}, 'geocoder': {'enabled': False}, 'coordinate': {'enabled': False}}, 'layerBlending': 'normal', 'splitMaps': [], 'animationConfig': {'currentTime': None, 'speed': 1}}, 'mapState': {'bearing': 0, 'dragRotate': False, 'latitude': 40.20444200178999, 'longitude': -74.47239475038594, 'pitch': 0, 'zoom': 8.38221371779276, 'isSplit': False}, 'mapStyle': {'styleType': 'dark', 'topLayerGroups': {}, 'visibleLayerGroups': {'label': True, 'road': True, 'border': False, 'building': True, 'water': True, 'land': True, '3d building': False}, 'threeDBuildingColor': [9.665468314072013, 17.18305478057247, 31.1442867897876], 'mapStyles': {}}}}\n",
    "\n",
    "map_NewYork = KeplerGl(height= 1000,config=config_NewYork_bands)\n",
    "map_NewYork.add_data(data=all_result_NewYork)\n",
    "map_NewYork\n",
    "#Suggested Color: ['#0000ff', '#007fff', '#00ffff', '#00ff80', '#00ff00', '#80ff00', '#ffff00', '#ff8000', '#ff0000', '#ff0000', '#ff0000', '#ff0000']"
   ]
  },
  {
   "cell_type": "code",
   "execution_count": 4,
   "id": "236c21bf",
   "metadata": {
    "scrolled": true
   },
   "outputs": [],
   "source": [
    "# map_NewYork_bands = KeplerGl(height=500,config=config_NewYork_bands)\n",
    "\n",
    "# for i in range(len(bandwidths_NewYork)):\n",
    "#     map_NewYork_bands.add_data(data=result_NewYork[i], name='data_%d'%(i+1))\n",
    "# map_NewYork_bands"
   ]
  }
 ],
 "metadata": {
  "kernelspec": {
   "display_name": "Python 3 (ipykernel)",
   "language": "python",
   "name": "python3"
  },
  "language_info": {
   "codemirror_mode": {
    "name": "ipython",
    "version": 3
   },
   "file_extension": ".py",
   "mimetype": "text/x-python",
   "name": "python",
   "nbconvert_exporter": "python",
   "pygments_lexer": "ipython3",
   "version": "3.9.7"
  }
 },
 "nbformat": 4,
 "nbformat_minor": 5
}

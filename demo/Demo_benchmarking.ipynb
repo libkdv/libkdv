{
 "cells": [
  {
   "cell_type": "code",
   "execution_count": 1,
   "id": "05340a2a",
   "metadata": {},
   "outputs": [],
   "source": [
    "import pandas as pd\n",
    "from libkdv import kdv\n",
    "from sklearn.neighbors import KernelDensity\n",
    "from scipy.stats import gaussian_kde\n",
    "from scipy import linalg\n",
    "from statsmodels.nonparametric.kernel_density import KDEMultivariate\n",
    "import matplotlib.pyplot as plt\n",
    "from KDEpy import FFTKDE\n",
    "import numpy as np\n",
    "import time\n",
    "from KDEpy import FFTKDE,NaiveKDE\n",
    "from libkdv.utils import GPS_to_XY\n",
    "\n",
    "def kde_scipy(x, x_grid, **kwargs):\n",
    "    \"\"\"Kernel Density Estimation with Scipy\"\"\"\n",
    "    if 'bandwidth' in kwargs:\n",
    "        kwargs.pop('bandwidth')\n",
    "    if 'kernel' in kwargs:\n",
    "        kwargs.pop('kernel')\n",
    "    kde = gaussian_kde(x, **kwargs)\n",
    "    return kde.evaluate(x_grid)\n",
    "\n",
    "def kde_statsmodels_m(x, x_grid, **kwargs):\n",
    "    \"\"\"Multivariate Kernel Density Estimation with Statsmodels\"\"\"\n",
    "    if 'bandwidth' in kwargs:\n",
    "        kwargs['bw'] = [kwargs['bandwidth'],kwargs['bandwidth']]\n",
    "        kwargs.pop('bandwidth')\n",
    "    if 'kernel' in kwargs:\n",
    "        kwargs['kernel'] = kwargs['kernel'][:2]\n",
    "\n",
    "    kde = KDEMultivariate([x[0],x[1]],\n",
    "                          var_type='cc', **kwargs)\n",
    "    return kde.pdf(x_grid)\n",
    "\n",
    "def kde_sklearn(x, x_grid, **kwargs):\n",
    "    \"\"\"Kernel Density Estimation with Scikit-learn\"\"\"\n",
    "    x = x.T\n",
    "    x_grid = x_grid.T\n",
    "    kde = KernelDensity(**kwargs)\n",
    "    kde.fit(x)\n",
    "    log_pdf = kde.score_samples(x_grid)\n",
    "    return np.exp(log_pdf)\n",
    "\n",
    "def kde_libkdv(x,kernel,**kwargs):\n",
    "    kde = kdv(x,GPS=False,**kwargs)\n",
    "    return np.array(kde.compute()['val'])\n",
    "\n",
    "class kde_exp:\n",
    "    def __init__(self,name,func):\n",
    "        self.func = func\n",
    "        self.name = name\n",
    "        self.results = {}\n",
    "        \n",
    "    def compute(self,data_name,points,bound=None,row_pixels=800,col_pixels=640,bandwidth=1000,kernel='epanechnikov'):\n",
    "        if bound is None:\n",
    "            bound = [points[0].min(),points[0].max(),points[1].min(),points[1].max()]\n",
    "        tik = time.time()\n",
    "        \n",
    "        if self.func == kde_libkdv:\n",
    "            Z = self.func(points,kernel,row_pixels=row_pixels,col_pixels=col_pixels,bandwidth=bandwidth)\n",
    "        #elif self.func in [kde_Naive_kdepy,kde_FFT_kdepy]:\n",
    "            \n",
    "        #    Z = self.func(points.T,kernel,row_pixels=row_pixels,col_pixels=col_pixels,bandwidth=bandwidth,kernel=kernel)\n",
    "        else:\n",
    "            X = np.linspace(bound[0],bound[1],row_pixels)\n",
    "            Y = np.linspace(bound[2],bound[3],col_pixels)\n",
    "            X,Y = np.meshgrid(X,Y)\n",
    "            positions = np.vstack([X.T.ravel(), Y.T.ravel()])\n",
    "            Z = self.func(points,positions,bandwidth=bandwidth)\n",
    "            \n",
    "        tok = time.time()\n",
    "        self.results[data_name] = {}\n",
    "        self.results[data_name]['values'] = np.reshape(Z.T, [row_pixels,col_pixels])\n",
    "        self.results[data_name]['time'] = tok-tik\n",
    "        self.results[data_name]['bound'] = bound\n",
    "        if self.func == kde_scipy:\n",
    "            kernel = 'gaussian'\n",
    "        self.results[data_name]['kernel'] = kernel\n",
    "        return self.results[data_name]"
   ]
  },
  {
   "cell_type": "code",
   "execution_count": null,
   "id": "77a24bc8",
   "metadata": {},
   "outputs": [],
   "source": [
    "#load Seattle dataset\n",
    "Seattle = pd.read_csv('..datasets/Seattle.csv')\n",
    "middle_lat_Seattle = 43.796782\n",
    "GPS_to_XY(Seattle,middle_lat_Seattle)\n",
    "\n",
    "#Different KDE methods for conducting experiments\n",
    "kde_names = ['libkdv','scipy','sklearn','statsmodels']\n",
    "kde_funcs = [kde_libkdv,kde_scipy,kde_sklearn,kde_statsmodels_m]\n",
    "\n",
    "kde_exps = []\n",
    "for i in range(len(kde_names)):\n",
    "    kde_exps.append(kde_exp(kde_names[i],kde_funcs[i]))"
   ]
  },
  {
   "cell_type": "code",
   "execution_count": 13,
   "id": "39103798",
   "metadata": {},
   "outputs": [
    {
     "name": "stdout",
     "output_type": "stream",
     "text": [
      "Method: libkdv\n",
      "Dataset (Sample 1% of the data points): Seattle\n",
      "Response time is: 3.49s\n"
     ]
    }
   ],
   "source": [
    "#LIBKDV (Sample 1% of data points)\n",
    "points_1 = Seattle[['x','y']].head(8388).to_numpy().T\n",
    "\n",
    "print('Method: %s'%kde_exps[0].name)\n",
    "print('Dataset (Sample 1%% of the data points): %s'%('Seattle'))\n",
    "kde_exps[0].compute('Seattle',points_1,bandwidth = 671,kernel = 'epanechnikov',row_pixels=1280,col_pixels=960)\n",
    "print('Response time is: %.4ss'%(kde_exps[0].results['Seattle']['time']))"
   ]
  },
  {
   "cell_type": "code",
   "execution_count": 4,
   "id": "fb7c2025",
   "metadata": {
    "scrolled": true
   },
   "outputs": [
    {
     "name": "stdout",
     "output_type": "stream",
     "text": [
      "Method: scipy\n",
      "Dataset (Sample 1% of the data points): Seattle\n",
      "Response time is: 114.s\n"
     ]
    }
   ],
   "source": [
    "#Scipy (Sample 1% of data points)\n",
    "points_1 = Seattle[['x','y']].head(8388).to_numpy().T\n",
    "\n",
    "print('Method: %s'%kde_exps[1].name)\n",
    "print('Dataset (Sample 1%% of the data points): %s'%('Seattle'))\n",
    "kde_exps[1].compute('Seattle',points_1,bandwidth = 671,kernel = 'epanechnikov',row_pixels=1280,col_pixels=960)\n",
    "print('Response time is: %.4ss'%(kde_exps[1].results['Seattle']['time']))"
   ]
  },
  {
   "cell_type": "code",
   "execution_count": 5,
   "id": "8c88159a",
   "metadata": {
    "scrolled": true
   },
   "outputs": [
    {
     "name": "stdout",
     "output_type": "stream",
     "text": [
      "Method: sklearn\n",
      "Dataset (Sample 1% of the data points): Seattle\n",
      "Response time is: 308.s\n"
     ]
    }
   ],
   "source": [
    "#Scikit-learn (Sample 1% of data points)\n",
    "points_1 = Seattle[['x','y']].head(8388).to_numpy().T\n",
    "\n",
    "print('Method: %s'%kde_exps[2].name)\n",
    "print('Dataset (Sample 1%% of the data points): %s'%('Seattle'))\n",
    "kde_exps[2].compute('Seattle',points_1,bandwidth = 671,kernel = 'epanechnikov',row_pixels=1280,col_pixels=960)\n",
    "print('Response time is: %.4ss'%(kde_exps[2].results['Seattle']['time']))"
   ]
  },
  {
   "cell_type": "code",
   "execution_count": 6,
   "id": "cb1aebf5",
   "metadata": {},
   "outputs": [
    {
     "name": "stdout",
     "output_type": "stream",
     "text": [
      "Method: statsmodels\n",
      "Dataset (Sample 1% of the data points): Seattle\n",
      "Response time is: 264.s\n"
     ]
    }
   ],
   "source": [
    "#Statsmodels (Sample 1% of data points)\n",
    "points_1 = Seattle[['x','y']].head(8388).to_numpy().T\n",
    "\n",
    "print('Method: %s'%kde_exps[3].name)\n",
    "print('Dataset (Sample 1%% of the data points): %s'%('Seattle'))\n",
    "kde_exps[3].compute('Seattle',points_1,bandwidth = 671,kernel = 'epanechnikov',row_pixels=1280,col_pixels=960)\n",
    "print('Response time is: %.4ss'%(kde_exps[3].results['Seattle']['time']))"
   ]
  },
  {
   "cell_type": "code",
   "execution_count": 8,
   "id": "1b972e2b",
   "metadata": {
    "scrolled": true
   },
   "outputs": [
    {
     "name": "stdout",
     "output_type": "stream",
     "text": [
      "Method: libkdv\n",
      "Dataset (Sample 100% of the data points): Seattle\n",
      "Response time is: 12.6s\n"
     ]
    }
   ],
   "source": [
    "#Full data points\n",
    "points_100 = Seattle[['x','y']].to_numpy().T\n",
    "\n",
    "print('Method: %s'%kde_exps[0].name)\n",
    "print('Dataset (Sample 100%% of the data points): %s'%('Seattle'))\n",
    "kde_exps[0].compute('Seattle',points_100,bandwidth = 671,kernel = 'epanechnikov',row_pixels=1280,col_pixels=960)\n",
    "print('Response time is: %.4ss'%(kde_exps[0].results['Seattle']['time']))"
   ]
  },
  {
   "cell_type": "code",
   "execution_count": 14,
   "id": "605cf621",
   "metadata": {},
   "outputs": [
    {
     "data": {
      "text/plain": [
       "(5281719.948391012, 5307792.955917665)"
      ]
     },
     "execution_count": 14,
     "metadata": {},
     "output_type": "execute_result"
    },
    {
     "data": {
      "image/png": "[encoded data removed]",
      "text/plain": [
       "<Figure size 432x288 with 1 Axes>"
      ]
     },
     "metadata": {
      "needs_background": "light"
     },
     "output_type": "display_data"
    }
   ],
   "source": [
    "#Display the visualization\n",
    "fig, ax = plt.subplots()\n",
    "# color reference: https://matplotlib.org/stable/tutorials/colors/colormaps.html\n",
    "ax.imshow(np.rot90(kde_exps[0].results['Seattle']['values']), cmap=plt.cm.jet, extent=kde_exps[0].results['Seattle']['bound'])\n",
    "#ax.plot(datas[i][0],datas[i][1], 'k.', markersize=2)\n",
    "#ax.set_title('Method:%s\\nData:%s\\nCompute time:%.3fs\\nKernel:%s\\n'%(exp.name,data_names[i],exp.results[data_names[i]]['time'],exp.results[data_names[i]]['kernel'] ))\n",
    "ax.set_xlim(kde_exps[0].results['Seattle']['bound'][0:2])\n",
    "ax.set_ylim(kde_exps[0].results['Seattle']['bound'][2:4])"
   ]
  },
  {
   "cell_type": "code",
   "execution_count": null,
   "id": "3eb31197",
   "metadata": {},
   "outputs": [],
   "source": []
  }
 ],
 "metadata": {
  "kernelspec": {
   "display_name": "Python 3 (ipykernel)",
   "language": "python",
   "name": "python3"
  },
  "language_info": {
   "codemirror_mode": {
    "name": "ipython",
    "version": 3
   },
   "file_extension": ".py",
   "mimetype": "text/x-python",
   "name": "python",
   "nbconvert_exporter": "python",
   "pygments_lexer": "ipython3",
   "version": "3.9.7"
  }
 },
 "nbformat": 4,
 "nbformat_minor": 5
}

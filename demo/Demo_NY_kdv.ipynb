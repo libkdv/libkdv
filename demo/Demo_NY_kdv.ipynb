{
 "cells": [
  {
   "cell_type": "code",
   "execution_count": 6,
   "metadata": {},
   "outputs": [],
   "source": [
    "import libkdv\n",
    "import pandas as pd\n",
    "import numpy as np\n",
    "from keplergl import KeplerGl\n"
   ]
  },
  {
   "cell_type": "code",
   "execution_count": null,
   "metadata": {},
   "outputs": [],
   "source": [
    "# Data Processing\n",
    "\n",
    "# Download Dataset here: https://data.cityofnewyork.us/Public-Safety/Motor-Vehicle-Collisions-Crashes/h9gi-nx95\n",
    "# NewYork = pd.read_csv('./New_York_Crashes_raw.csv')\n",
    "# center_NewYork = [40.730610,-73.935242]\n",
    "# attr_name_NewYork = ['LATITUDE','LONGITUDE','CRASH DATE']\n",
    "\n",
    "# df = libkdv.utils.gps_data_processing(NewYork,center_NewYork,attr_name_NewYork,tolerance = 0.3 )\n",
    "# df.to_csv('../datasets/NewYork.csv',index=False)"
   ]
  },
  {
   "cell_type": "code",
   "execution_count": 4,
   "metadata": {},
   "outputs": [],
   "source": [
    "df = pd.read_csv('../datasets/NewYork.csv')\n",
    "kdv_NewYork = libkdv.kdv(df, KDV_type='KDV',\n",
    "                 bandwidth=1000, row_pixels=800, col_pixels=600)"
   ]
  },
  {
   "cell_type": "code",
   "execution_count": 5,
   "metadata": {},
   "outputs": [
    {
     "data": {
      "text/html": [
       "<div>\n",
       "<style scoped>\n",
       "    .dataframe tbody tr th:only-of-type {\n",
       "        vertical-align: middle;\n",
       "    }\n",
       "\n",
       "    .dataframe tbody tr th {\n",
       "        vertical-align: top;\n",
       "    }\n",
       "\n",
       "    .dataframe thead th {\n",
       "        text-align: right;\n",
       "    }\n",
       "</style>\n",
       "<table border=\"1\" class=\"dataframe\">\n",
       "  <thead>\n",
       "    <tr style=\"text-align: right;\">\n",
       "      <th></th>\n",
       "      <th>lon</th>\n",
       "      <th>lat</th>\n",
       "      <th>val</th>\n",
       "    </tr>\n",
       "  </thead>\n",
       "  <tbody>\n",
       "    <tr>\n",
       "      <th>0</th>\n",
       "      <td>-74.235190</td>\n",
       "      <td>40.501762</td>\n",
       "      <td>0.003008</td>\n",
       "    </tr>\n",
       "    <tr>\n",
       "      <th>1</th>\n",
       "      <td>-74.235190</td>\n",
       "      <td>40.502449</td>\n",
       "      <td>0.003306</td>\n",
       "    </tr>\n",
       "    <tr>\n",
       "      <th>2</th>\n",
       "      <td>-74.235190</td>\n",
       "      <td>40.503135</td>\n",
       "      <td>0.003643</td>\n",
       "    </tr>\n",
       "    <tr>\n",
       "      <th>3</th>\n",
       "      <td>-74.235190</td>\n",
       "      <td>40.503821</td>\n",
       "      <td>0.004061</td>\n",
       "    </tr>\n",
       "    <tr>\n",
       "      <th>4</th>\n",
       "      <td>-74.235190</td>\n",
       "      <td>40.504508</td>\n",
       "      <td>0.004487</td>\n",
       "    </tr>\n",
       "    <tr>\n",
       "      <th>...</th>\n",
       "      <td>...</td>\n",
       "      <td>...</td>\n",
       "      <td>...</td>\n",
       "    </tr>\n",
       "    <tr>\n",
       "      <th>272354</th>\n",
       "      <td>-73.663726</td>\n",
       "      <td>40.737866</td>\n",
       "      <td>0.000011</td>\n",
       "    </tr>\n",
       "    <tr>\n",
       "      <th>272355</th>\n",
       "      <td>-73.663726</td>\n",
       "      <td>40.738552</td>\n",
       "      <td>0.000012</td>\n",
       "    </tr>\n",
       "    <tr>\n",
       "      <th>272356</th>\n",
       "      <td>-73.663726</td>\n",
       "      <td>40.739238</td>\n",
       "      <td>0.000013</td>\n",
       "    </tr>\n",
       "    <tr>\n",
       "      <th>272357</th>\n",
       "      <td>-73.663726</td>\n",
       "      <td>40.739925</td>\n",
       "      <td>0.000012</td>\n",
       "    </tr>\n",
       "    <tr>\n",
       "      <th>272358</th>\n",
       "      <td>-73.663726</td>\n",
       "      <td>40.740611</td>\n",
       "      <td>0.000011</td>\n",
       "    </tr>\n",
       "  </tbody>\n",
       "</table>\n",
       "<p>272359 rows × 3 columns</p>\n",
       "</div>"
      ],
      "text/plain": [
       "              lon        lat       val\n",
       "0      -74.235190  40.501762  0.003008\n",
       "1      -74.235190  40.502449  0.003306\n",
       "2      -74.235190  40.503135  0.003643\n",
       "3      -74.235190  40.503821  0.004061\n",
       "4      -74.235190  40.504508  0.004487\n",
       "...           ...        ...       ...\n",
       "272354 -73.663726  40.737866  0.000011\n",
       "272355 -73.663726  40.738552  0.000012\n",
       "272356 -73.663726  40.739238  0.000013\n",
       "272357 -73.663726  40.739925  0.000012\n",
       "272358 -73.663726  40.740611  0.000011\n",
       "\n",
       "[272359 rows x 3 columns]"
      ]
     },
     "execution_count": 5,
     "metadata": {},
     "output_type": "execute_result"
    }
   ],
   "source": [
    "kdv_NewYork.compute()"
   ]
  },
  {
   "cell_type": "code",
   "execution_count": 7,
   "metadata": {},
   "outputs": [
    {
     "name": "stdout",
     "output_type": "stream",
     "text": [
      "User Guide: https://docs.kepler.gl/docs/keplergl-jupyter\n"
     ]
    },
    {
     "data": {
      "application/vnd.jupyter.widget-view+json": {
       "model_id": "6c8c02524847432090f00e2e4fe1cb9f",
       "version_major": 2,
       "version_minor": 0
      },
      "text/plain": [
       "KeplerGl(data={'data_1':               lon        lat       val\n",
       "0      -74.235190  40.501762  0.003008\n",
       "1      …"
      ]
     },
     "metadata": {},
     "output_type": "display_data"
    }
   ],
   "source": [
    "map_kdv = KeplerGl(height=600, data={\"data_1\": kdv_NewYork.result})\n",
    "map_kdv"
   ]
  }
 ],
 "metadata": {
  "kernelspec": {
   "display_name": "base",
   "language": "python",
   "name": "python3"
  },
  "language_info": {
   "codemirror_mode": {
    "name": "ipython",
    "version": 3
   },
   "file_extension": ".py",
   "mimetype": "text/x-python",
   "name": "python",
   "nbconvert_exporter": "python",
   "pygments_lexer": "ipython3",
   "version": "3.12.3"
  }
 },
 "nbformat": 4,
 "nbformat_minor": 2
}

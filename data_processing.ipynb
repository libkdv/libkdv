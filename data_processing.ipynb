{
 "cells": [
  {
   "cell_type": "code",
   "execution_count": 2,
   "id": "fb3992a2",
   "metadata": {},
   "outputs": [],
   "source": [
    "import pandas as pd\n"
   ]
  },
  {
   "cell_type": "code",
   "execution_count": 3,
   "id": "1bd4a5e8",
   "metadata": {},
   "outputs": [],
   "source": [
    "def filter_data(df,center,attr_name,tolerance=5):\n",
    "    lat_name,lon_name,_ = attr_name\n",
    "    return df[attr_name][(df[lat_name]>center[0]-tolerance) & (df[lat_name]<center[0]+tolerance) & (df[lon_name]>center[1]-tolerance) & (df[lon_name]<center[1]+tolerance)]\n",
    "def convert_timestamp(df,time_name):\n",
    "    df[time_name] =  pd.to_datetime(df[time_name])\n",
    "    df[time_name] = df[time_name].values.astype('int64') // 10 ** 9\n",
    "    return df\n",
    "    "
   ]
  },
  {
   "cell_type": "code",
   "execution_count": 4,
   "id": "6eee7b24",
   "metadata": {},
   "outputs": [
    {
     "name": "stderr",
     "output_type": "stream",
     "text": [
      "C:\\Users\\www1n\\anaconda3\\lib\\site-packages\\IPython\\core\\interactiveshell.py:3165: DtypeWarning: Columns (3) have mixed types.Specify dtype option on import or set low_memory=False.\n",
      "  has_raised = await self.run_ast_nodes(code_ast.body, cell_name,\n"
     ]
    }
   ],
   "source": [
    "attr_name = ['lat','lon','t']\n",
    "NewYork = pd.read_csv('New_York_Crashes_raw.csv')\n",
    "center_NewYork = [40.730610,-73.935242]\n",
    "attr_name_NewYork = ['LATITUDE','LONGITUDE','CRASH DATE']\n",
    "\n",
    "Seattle = pd.read_csv('Seattle_Crime_raw.csv')\n",
    "center_Seattle = [47.608013,-122.335167]\n",
    "attr_name_Seattle = ['Latitude','Longitude','Offense Start DateTime']\n",
    "\n",
    "Ontario = pd.read_csv('Ontario_org.csv')\n",
    "center_Ontario = [43.000000,-81.000000]\n",
    "attr_name_Ontario = ['Reporting_PHU_Latitude','Reporting_PHU_Longitude','Case_Reported_Date']"
   ]
  },
  {
   "cell_type": "code",
   "execution_count": null,
   "metadata": {},
   "outputs": [],
   "source": [
    "NewYork.fillna(0,inplace=True)\n",
    "NewYork = filter_data(NewYork,center_NewYork,attr_name_NewYork)\n",
    "convert_timestamp(NewYork,attr_name_NewYork[2])\n",
    "NewYork.columns = attr_name\n",
    "NewYork.to_csv('./datasets/NewYork.csv',index=False)"
   ]
  },
  {
   "cell_type": "code",
   "execution_count": null,
   "id": "40380365",
   "metadata": {},
   "outputs": [],
   "source": [
    "Seattle = filter_data(Seattle,center_Seattle,attr_name_Seattle)\n",
    "convert_timestamp(Seattle,attr_name_Seattle[2])\n",
    "Seattle.columns = attr_name\n",
    "Seattle.to_csv('./datasets/Seattle.csv',index=False)"
   ]
  },
  {
   "cell_type": "code",
   "execution_count": null,
   "id": "fa284c6c",
   "metadata": {},
   "outputs": [],
   "source": [
    "Ontario = filter_data(Ontario,center_Ontario,attr_name_Ontario)\n",
    "convert_timestamp(Ontario,attr_name_Ontario[2])\n",
    "Ontario.columns = attr_name\n",
    "Ontario.to_csv('./datasets/Ontario.csv',index=False)"
   ]
  },
  {
   "cell_type": "code",
   "execution_count": null,
   "id": "aa7e2fb2",
   "metadata": {},
   "outputs": [],
   "source": []
  }
 ],
 "metadata": {
  "kernelspec": {
   "display_name": "Python 3",
   "language": "python",
   "name": "python3"
  },
  "language_info": {
   "codemirror_mode": {
    "name": "ipython",
    "version": 3
   },
   "file_extension": ".py",
   "mimetype": "text/x-python",
   "name": "python",
   "nbconvert_exporter": "python",
   "pygments_lexer": "ipython3",
   "version": "3.8.8"
  }
 },
 "nbformat": 4,
 "nbformat_minor": 5
}

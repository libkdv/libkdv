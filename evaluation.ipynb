{
 "cells": [
  {
   "cell_type": "code",
   "execution_count": 1,
   "metadata": {},
   "outputs": [],
   "source": [
    "import libkdv\n",
    "import pandas as pd\n",
    "import numpy as np\n"
   ]
  },
  {
   "cell_type": "markdown",
   "metadata": {},
   "source": [
    "KDV of xy"
   ]
  },
  {
   "cell_type": "code",
   "execution_count": 2,
   "metadata": {},
   "outputs": [],
   "source": [
    "def measure(n):\n",
    "    \"Measurement model, return two coupled measurements.\"\n",
    "    m1 = np.random.normal(size=n)\n",
    "    m2 = np.random.normal(scale=0.5, size=n)\n",
    "    return m1+m2, m1-m2"
   ]
  },
  {
   "cell_type": "code",
   "execution_count": 3,
   "metadata": {},
   "outputs": [],
   "source": [
    "m1, m2 = measure(2000)\n",
    "df = pd.DataFrame({'x':m1,'y':m2})"
   ]
  },
  {
   "cell_type": "code",
   "execution_count": 4,
   "metadata": {},
   "outputs": [
    {
     "data": {
      "image/png": "[encoded data removed]",
      "text/plain": [
       "<Figure size 432x288 with 2 Axes>"
      ]
     },
     "metadata": {
      "needs_background": "light"
     },
     "output_type": "display_data"
    }
   ],
   "source": [
    "kdv = libkdv.kdv(df,GPS=False,bandwidth_s=0.5)\n",
    "result = kdv.compute()\n",
    "kdv.plot()"
   ]
  },
  {
   "cell_type": "markdown",
   "metadata": {},
   "source": [
    "KDV of Geo data"
   ]
  },
  {
   "cell_type": "code",
   "execution_count": 5,
   "metadata": {},
   "outputs": [
    {
     "name": "stderr",
     "output_type": "stream",
     "text": [
      "C:\\Users\\www1n\\anaconda3\\lib\\site-packages\\IPython\\core\\interactiveshell.py:3165: DtypeWarning: Columns (3) have mixed types.Specify dtype option on import or set low_memory=False.\n",
      "  has_raised = await self.run_ast_nodes(code_ast.body, cell_name,\n"
     ]
    },
    {
     "data": {
      "text/html": [
       "<div>\n",
       "<style scoped>\n",
       "    .dataframe tbody tr th:only-of-type {\n",
       "        vertical-align: middle;\n",
       "    }\n",
       "\n",
       "    .dataframe tbody tr th {\n",
       "        vertical-align: top;\n",
       "    }\n",
       "\n",
       "    .dataframe thead th {\n",
       "        text-align: right;\n",
       "    }\n",
       "</style>\n",
       "<table border=\"1\" class=\"dataframe\">\n",
       "  <thead>\n",
       "    <tr style=\"text-align: right;\">\n",
       "      <th></th>\n",
       "      <th>lat</th>\n",
       "      <th>lon</th>\n",
       "      <th>t</th>\n",
       "    </tr>\n",
       "  </thead>\n",
       "  <tbody>\n",
       "    <tr>\n",
       "      <th>0</th>\n",
       "      <td>40.599945</td>\n",
       "      <td>-73.946370</td>\n",
       "      <td>1559520000</td>\n",
       "    </tr>\n",
       "    <tr>\n",
       "      <th>2</th>\n",
       "      <td>40.595715</td>\n",
       "      <td>-73.965080</td>\n",
       "      <td>1560297600</td>\n",
       "    </tr>\n",
       "    <tr>\n",
       "      <th>3</th>\n",
       "      <td>40.642384</td>\n",
       "      <td>-73.925390</td>\n",
       "      <td>1561334400</td>\n",
       "    </tr>\n",
       "    <tr>\n",
       "      <th>4</th>\n",
       "      <td>40.580360</td>\n",
       "      <td>-73.967610</td>\n",
       "      <td>1559606400</td>\n",
       "    </tr>\n",
       "    <tr>\n",
       "      <th>5</th>\n",
       "      <td>40.630005</td>\n",
       "      <td>-74.010160</td>\n",
       "      <td>1561334400</td>\n",
       "    </tr>\n",
       "    <tr>\n",
       "      <th>...</th>\n",
       "      <td>...</td>\n",
       "      <td>...</td>\n",
       "      <td>...</td>\n",
       "    </tr>\n",
       "    <tr>\n",
       "      <th>1705600</th>\n",
       "      <td>40.621860</td>\n",
       "      <td>-74.072063</td>\n",
       "      <td>1388707200</td>\n",
       "    </tr>\n",
       "    <tr>\n",
       "      <th>1705601</th>\n",
       "      <td>40.678639</td>\n",
       "      <td>-73.973508</td>\n",
       "      <td>1389052800</td>\n",
       "    </tr>\n",
       "    <tr>\n",
       "      <th>1705602</th>\n",
       "      <td>40.770675</td>\n",
       "      <td>-73.735493</td>\n",
       "      <td>1388966400</td>\n",
       "    </tr>\n",
       "    <tr>\n",
       "      <th>1705603</th>\n",
       "      <td>40.763622</td>\n",
       "      <td>-73.721918</td>\n",
       "      <td>1388880000</td>\n",
       "    </tr>\n",
       "    <tr>\n",
       "      <th>1705604</th>\n",
       "      <td>40.633515</td>\n",
       "      <td>-74.026949</td>\n",
       "      <td>1389052800</td>\n",
       "    </tr>\n",
       "  </tbody>\n",
       "</table>\n",
       "<p>1498593 rows × 3 columns</p>\n",
       "</div>"
      ],
      "text/plain": [
       "               lat        lon           t\n",
       "0        40.599945 -73.946370  1559520000\n",
       "2        40.595715 -73.965080  1560297600\n",
       "3        40.642384 -73.925390  1561334400\n",
       "4        40.580360 -73.967610  1559606400\n",
       "5        40.630005 -74.010160  1561334400\n",
       "...            ...        ...         ...\n",
       "1705600  40.621860 -74.072063  1388707200\n",
       "1705601  40.678639 -73.973508  1389052800\n",
       "1705602  40.770675 -73.735493  1388966400\n",
       "1705603  40.763622 -73.721918  1388880000\n",
       "1705604  40.633515 -74.026949  1389052800\n",
       "\n",
       "[1498593 rows x 3 columns]"
      ]
     },
     "execution_count": 5,
     "metadata": {},
     "output_type": "execute_result"
    }
   ],
   "source": [
    "NewYork = pd.read_csv('New_York_Crashes_raw.csv')\n",
    "center_NewYork = [40.730610,-73.935242]\n",
    "attr_name_NewYork = ['LATITUDE','LONGITUDE','CRASH DATE']\n",
    "\n",
    "df = libkdv.utils.gps_data_processing(NewYork,center_NewYork,attr_name_NewYork,tolerance = 0.3 )\n",
    "df"
   ]
  },
  {
   "cell_type": "code",
   "execution_count": 6,
   "metadata": {},
   "outputs": [],
   "source": [
    "kdv_NewYork = libkdv.kdv(df, KDV_type='KDV',\n",
    "                 bandwidth_s=1000, row_pixels=800, col_pixels=600,t_pixels = 128)\n"
   ]
  },
  {
   "cell_type": "code",
   "execution_count": 7,
   "metadata": {},
   "outputs": [
    {
     "data": {
      "text/html": [
       "<div>\n",
       "<style scoped>\n",
       "    .dataframe tbody tr th:only-of-type {\n",
       "        vertical-align: middle;\n",
       "    }\n",
       "\n",
       "    .dataframe tbody tr th {\n",
       "        vertical-align: top;\n",
       "    }\n",
       "\n",
       "    .dataframe thead th {\n",
       "        text-align: right;\n",
       "    }\n",
       "</style>\n",
       "<table border=\"1\" class=\"dataframe\">\n",
       "  <thead>\n",
       "    <tr style=\"text-align: right;\">\n",
       "      <th></th>\n",
       "      <th>lon</th>\n",
       "      <th>lat</th>\n",
       "      <th>val</th>\n",
       "    </tr>\n",
       "  </thead>\n",
       "  <tbody>\n",
       "    <tr>\n",
       "      <th>0</th>\n",
       "      <td>-74.235190</td>\n",
       "      <td>40.501762</td>\n",
       "      <td>0.497028</td>\n",
       "    </tr>\n",
       "    <tr>\n",
       "      <th>1</th>\n",
       "      <td>-74.235190</td>\n",
       "      <td>40.502449</td>\n",
       "      <td>0.592044</td>\n",
       "    </tr>\n",
       "    <tr>\n",
       "      <th>2</th>\n",
       "      <td>-74.235190</td>\n",
       "      <td>40.503135</td>\n",
       "      <td>0.700396</td>\n",
       "    </tr>\n",
       "    <tr>\n",
       "      <th>3</th>\n",
       "      <td>-74.235190</td>\n",
       "      <td>40.503821</td>\n",
       "      <td>0.807795</td>\n",
       "    </tr>\n",
       "    <tr>\n",
       "      <th>4</th>\n",
       "      <td>-74.235190</td>\n",
       "      <td>40.504508</td>\n",
       "      <td>0.901374</td>\n",
       "    </tr>\n",
       "    <tr>\n",
       "      <th>...</th>\n",
       "      <td>...</td>\n",
       "      <td>...</td>\n",
       "      <td>...</td>\n",
       "    </tr>\n",
       "    <tr>\n",
       "      <th>211652</th>\n",
       "      <td>-73.684494</td>\n",
       "      <td>40.738552</td>\n",
       "      <td>0.178209</td>\n",
       "    </tr>\n",
       "    <tr>\n",
       "      <th>211653</th>\n",
       "      <td>-73.684494</td>\n",
       "      <td>40.739238</td>\n",
       "      <td>0.182488</td>\n",
       "    </tr>\n",
       "    <tr>\n",
       "      <th>211654</th>\n",
       "      <td>-73.684494</td>\n",
       "      <td>40.739925</td>\n",
       "      <td>0.172181</td>\n",
       "    </tr>\n",
       "    <tr>\n",
       "      <th>211655</th>\n",
       "      <td>-73.684494</td>\n",
       "      <td>40.740611</td>\n",
       "      <td>0.155854</td>\n",
       "    </tr>\n",
       "    <tr>\n",
       "      <th>211656</th>\n",
       "      <td>-73.684494</td>\n",
       "      <td>40.741297</td>\n",
       "      <td>0.127963</td>\n",
       "    </tr>\n",
       "  </tbody>\n",
       "</table>\n",
       "<p>211657 rows × 3 columns</p>\n",
       "</div>"
      ],
      "text/plain": [
       "              lon        lat       val\n",
       "0      -74.235190  40.501762  0.497028\n",
       "1      -74.235190  40.502449  0.592044\n",
       "2      -74.235190  40.503135  0.700396\n",
       "3      -74.235190  40.503821  0.807795\n",
       "4      -74.235190  40.504508  0.901374\n",
       "...           ...        ...       ...\n",
       "211652 -73.684494  40.738552  0.178209\n",
       "211653 -73.684494  40.739238  0.182488\n",
       "211654 -73.684494  40.739925  0.172181\n",
       "211655 -73.684494  40.740611  0.155854\n",
       "211656 -73.684494  40.741297  0.127963\n",
       "\n",
       "[211657 rows x 3 columns]"
      ]
     },
     "execution_count": 7,
     "metadata": {},
     "output_type": "execute_result"
    }
   ],
   "source": [
    "kdv_NewYork.compute()"
   ]
  },
  {
   "cell_type": "code",
   "execution_count": 8,
   "metadata": {},
   "outputs": [
    {
     "data": {
      "application/vnd.jupyter.widget-view+json": {
       "model_id": "2092409cb81c4b0087b4daff8f717c77",
       "version_major": 2,
       "version_minor": 0
      },
      "text/plain": [
       "KeplerGl(data={'data_1': {'index': [0, 1, 2, 3, 4, 5, 6, 7, 8, 9, 10, 11, 12, 13, 14, 15, 16, 17, 18, 19, 20, …"
      ]
     },
     "metadata": {},
     "output_type": "display_data"
    }
   ],
   "source": [
    "map1 = kdv_NewYork.plot()\n",
    "map1\n",
    "#Suggested Color: ['#0000ff', '#007fff', '#00ffff', '#00ff80', '#00ff00', '#80ff00', '#ffff00', '#ff8000', '#ff0000', '#ff0000', '#ff0000', '#ff0000']\n",
    "#Suggested Color Scale: quantize"
   ]
  },
  {
   "cell_type": "markdown",
   "metadata": {},
   "source": [
    "STKDV of Geo data"
   ]
  },
  {
   "cell_type": "code",
   "execution_count": 9,
   "metadata": {},
   "outputs": [],
   "source": [
    "ST_kdv_NewYork = libkdv.kdv(df,KDV_type='STKDV',bandwidth_s=1062,\n",
    "                            row_pixels=128,col_pixels=128,bandwidth_t=10,\n",
    "                            num_threads=16,t_pixels=128)"
   ]
  },
  {
   "cell_type": "code",
   "execution_count": 10,
   "metadata": {},
   "outputs": [
    {
     "data": {
      "text/html": [
       "<div>\n",
       "<style scoped>\n",
       "    .dataframe tbody tr th:only-of-type {\n",
       "        vertical-align: middle;\n",
       "    }\n",
       "\n",
       "    .dataframe tbody tr th {\n",
       "        vertical-align: top;\n",
       "    }\n",
       "\n",
       "    .dataframe thead th {\n",
       "        text-align: right;\n",
       "    }\n",
       "</style>\n",
       "<table border=\"1\" class=\"dataframe\">\n",
       "  <thead>\n",
       "    <tr style=\"text-align: right;\">\n",
       "      <th></th>\n",
       "      <th>lon</th>\n",
       "      <th>lat</th>\n",
       "      <th>val</th>\n",
       "      <th>t</th>\n",
       "    </tr>\n",
       "  </thead>\n",
       "  <tbody>\n",
       "    <tr>\n",
       "      <th>0</th>\n",
       "      <td>-74.23519</td>\n",
       "      <td>40.501762</td>\n",
       "      <td>0.352492</td>\n",
       "      <td>1343110275</td>\n",
       "    </tr>\n",
       "    <tr>\n",
       "      <th>1</th>\n",
       "      <td>-74.23519</td>\n",
       "      <td>40.501762</td>\n",
       "      <td>1.095108</td>\n",
       "      <td>1345119750</td>\n",
       "    </tr>\n",
       "    <tr>\n",
       "      <th>2</th>\n",
       "      <td>-74.23519</td>\n",
       "      <td>40.501762</td>\n",
       "      <td>0.222585</td>\n",
       "      <td>1347129225</td>\n",
       "    </tr>\n",
       "    <tr>\n",
       "      <th>3</th>\n",
       "      <td>-74.23519</td>\n",
       "      <td>40.501762</td>\n",
       "      <td>0.771747</td>\n",
       "      <td>1355167125</td>\n",
       "    </tr>\n",
       "    <tr>\n",
       "      <th>4</th>\n",
       "      <td>-74.23519</td>\n",
       "      <td>40.501762</td>\n",
       "      <td>0.157688</td>\n",
       "      <td>1359186075</td>\n",
       "    </tr>\n",
       "    <tr>\n",
       "      <th>...</th>\n",
       "      <td>...</td>\n",
       "      <td>...</td>\n",
       "      <td>...</td>\n",
       "      <td>...</td>\n",
       "    </tr>\n",
       "    <tr>\n",
       "      <th>894713</th>\n",
       "      <td>-73.66748</td>\n",
       "      <td>40.733018</td>\n",
       "      <td>0.361582</td>\n",
       "      <td>1463678774</td>\n",
       "    </tr>\n",
       "    <tr>\n",
       "      <th>894714</th>\n",
       "      <td>-73.66748</td>\n",
       "      <td>40.736230</td>\n",
       "      <td>0.670559</td>\n",
       "      <td>1463678774</td>\n",
       "    </tr>\n",
       "    <tr>\n",
       "      <th>894715</th>\n",
       "      <td>-73.66748</td>\n",
       "      <td>40.739442</td>\n",
       "      <td>0.790573</td>\n",
       "      <td>1463678774</td>\n",
       "    </tr>\n",
       "    <tr>\n",
       "      <th>894716</th>\n",
       "      <td>-73.66748</td>\n",
       "      <td>40.742654</td>\n",
       "      <td>0.721622</td>\n",
       "      <td>1463678774</td>\n",
       "    </tr>\n",
       "    <tr>\n",
       "      <th>894717</th>\n",
       "      <td>-73.66748</td>\n",
       "      <td>40.745866</td>\n",
       "      <td>0.463708</td>\n",
       "      <td>1463678774</td>\n",
       "    </tr>\n",
       "  </tbody>\n",
       "</table>\n",
       "<p>894718 rows × 4 columns</p>\n",
       "</div>"
      ],
      "text/plain": [
       "             lon        lat       val           t\n",
       "0      -74.23519  40.501762  0.352492  1343110275\n",
       "1      -74.23519  40.501762  1.095108  1345119750\n",
       "2      -74.23519  40.501762  0.222585  1347129225\n",
       "3      -74.23519  40.501762  0.771747  1355167125\n",
       "4      -74.23519  40.501762  0.157688  1359186075\n",
       "...          ...        ...       ...         ...\n",
       "894713 -73.66748  40.733018  0.361582  1463678774\n",
       "894714 -73.66748  40.736230  0.670559  1463678774\n",
       "894715 -73.66748  40.739442  0.790573  1463678774\n",
       "894716 -73.66748  40.742654  0.721622  1463678774\n",
       "894717 -73.66748  40.745866  0.463708  1463678774\n",
       "\n",
       "[894718 rows x 4 columns]"
      ]
     },
     "execution_count": 10,
     "metadata": {},
     "output_type": "execute_result"
    }
   ],
   "source": [
    "#Takes around 5 mins to compute the result\n",
    "ST_kdv_NewYork.compute()\n",
    "ST_kdv_NewYork.result.to_csv('ST_NY_result.csv',index=False)"
   ]
  },
  {
   "cell_type": "code",
   "execution_count": 15,
   "metadata": {
    "scrolled": false
   },
   "outputs": [
    {
     "data": {
      "application/vnd.jupyter.widget-view+json": {
       "model_id": "4a2036a9e41a4b459b8ea9654c9aae29",
       "version_major": 2,
       "version_minor": 0
      },
      "text/plain": [
       "KeplerGl(data={'data_1': {'index': [0, 1, 2, 3, 4, 5, 6, 7, 8, 9, 10, 11, 12, 13, 14, 15, 16, 17, 18, 19, 20, …"
      ]
     },
     "metadata": {},
     "output_type": "display_data"
    }
   ],
   "source": [
    "map2 = ST_kdv_NewYork.plot()\n",
    "map2\n",
    "#Suggested Color: ['#0000ff', '#007fff', '#00ffff', '#00ff80', '#00ff00', '#80ff00', '#ffff00', '#ff8000', '#ff0000', '#ff0000', '#ff0000', '#ff0000']\n",
    "#Suggested Color Scale: quantize"
   ]
  },
  {
   "cell_type": "code",
   "execution_count": 18,
   "metadata": {
    "scrolled": false
   },
   "outputs": [
    {
     "data": {
      "application/vnd.jupyter.widget-view+json": {
       "model_id": "aff2315d1f4c4b69a7934a16b8e62552",
       "version_major": 2,
       "version_minor": 0
      },
      "text/plain": [
       "KeplerGl(config={'version': 'v1', 'config': {'visState': {'filters': [{'dataId': ['data_1'], 'id': 'il25jwfnr'…"
      ]
     },
     "metadata": {},
     "output_type": "display_data"
    }
   ],
   "source": [
    "#save the STKDV_result so that you can reproduce the map without computing\n",
    "result = pd.read_csv('ST_NY_result.csv')\n",
    "config_ST_NY = {'version': 'v1', 'config': {'visState': {'filters': [{'dataId': ['data_1'], 'id': 'il25jwfnr', 'name': ['t'], 'type': 'timeRange', 'value': [1341100800000, 1344979270000], 'enlarged': False, 'plotType': 'histogram', 'animationWindow': 'free', 'yAxis': None, 'speed': 1}], 'layers': [{'id': 'yaru41a', 'type': 'point', 'config': {'dataId': 'data_1', 'label': 'Point', 'color': [34, 63, 154], 'highlightColor': [252, 242, 26, 255], 'columns': {'lat': 'lat', 'lng': 'lon', 'altitude': None}, 'isVisible': True, 'visConfig': {'radius': 10, 'fixedRadius': False, 'opacity': 0.8, 'outline': False, 'thickness': 2, 'strokeColor': None, 'colorRange': {'name': 'Custom Palette', 'type': 'custom', 'category': 'Custom', 'colors': ['#0000FF', '#007FFF', '#00FFFF', '#00FF80', '#00FF00', '#80FF00', '#FFFF00', '#FF8000', '#FF0000', '#FF0000', '#FF0000', '#FF0000']}, 'strokeColorRange': {'name': 'Global Warming', 'type': 'sequential', 'category': 'Uber', 'colors': ['#5A1846', '#900C3F', '#C70039', '#E3611C', '#F1920E', '#FFC300']}, 'radiusRange': [0, 50], 'filled': True}, 'hidden': False, 'textLabel': [{'field': None, 'color': [255, 255, 255], 'size': 18, 'offset': [0, 0], 'anchor': 'start', 'alignment': 'center'}]}, 'visualChannels': {'colorField': {'name': 'val', 'type': 'real'}, 'colorScale': 'quantize', 'strokeColorField': None, 'strokeColorScale': 'quantile', 'sizeField': None, 'sizeScale': 'linear'}}], 'interactionConfig': {'tooltip': {'fieldsToShow': {'data_1': [{'name': 'val', 'format': None}, {'name': 't', 'format': None}]}, 'compareMode': False, 'compareType': 'absolute', 'enabled': True}, 'brush': {'size': 0.5, 'enabled': False}, 'geocoder': {'enabled': False}, 'coordinate': {'enabled': False}}, 'layerBlending': 'normal', 'splitMaps': [], 'animationConfig': {'currentTime': None, 'speed': 1}}, 'mapState': {'bearing': 0, 'dragRotate': False, 'latitude': 40.717414764970975, 'longitude': -73.88441287419872, 'pitch': 0, 'zoom': 9, 'isSplit': False}, 'mapStyle': {'styleType': 'dark', 'topLayerGroups': {}, 'visibleLayerGroups': {'label': True, 'road': True, 'border': False, 'building': True, 'water': True, 'land': True, '3d building': False}, 'threeDBuildingColor': [9.665468314072013, 17.18305478057247, 31.1442867897876], 'mapStyles': {}}}}\n",
    "map_2 = libkdv.plot(result,config_ST_NY)\n",
    "map_2"
   ]
  }
 ],
 "metadata": {
  "interpreter": {
   "hash": "7826722ec4367e2873e398bb03d07cf2c0b573181d0473081d0deef1891c47cd"
  },
  "kernelspec": {
   "display_name": "Python 3",
   "language": "python",
   "name": "python3"
  },
  "language_info": {
   "codemirror_mode": {
    "name": "ipython",
    "version": 3
   },
   "file_extension": ".py",
   "mimetype": "text/x-python",
   "name": "python",
   "nbconvert_exporter": "python",
   "pygments_lexer": "ipython3",
   "version": "3.8.8"
  }
 },
 "nbformat": 4,
 "nbformat_minor": 2
}
